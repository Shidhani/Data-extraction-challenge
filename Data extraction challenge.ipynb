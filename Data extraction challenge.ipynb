{
 "cells": [
  {
   "cell_type": "code",
   "execution_count": 2,
   "metadata": {},
   "outputs": [],
   "source": [
    "# # Install pytorch\n",
    "# #https://pytorch.org/get-started/locally/\n",
    "!pip3 install torch torchvision torchaudio\n",
    "\n",
    "# # Install easyocr \n",
    "!pip install easyocr"
   ]
  },
  {
   "cell_type": "code",
   "execution_count": 5,
   "metadata": {},
   "outputs": [],
   "source": [
    "# Import libraries \n",
    "import easyocr\n",
    "import cv2\n",
    "from matplotlib import pyplot as plt\n",
    "import numpy as np\n",
    "\n",
    "import re\n",
    "from datetime import datetime\n",
    "from collections import defaultdict"
   ]
  },
  {
   "cell_type": "markdown",
   "metadata": {},
   "source": [
    "### 1. Read image"
   ]
  },
  {
   "cell_type": "code",
   "execution_count": 6,
   "metadata": {},
   "outputs": [],
   "source": [
    "# Set image path\n",
    "IMAGE_PATH = 'image.png'"
   ]
  },
  {
   "attachments": {},
   "cell_type": "markdown",
   "metadata": {},
   "source": [
    "### 2. OCR the text"
   ]
  },
  {
   "cell_type": "code",
   "execution_count": 7,
   "metadata": {},
   "outputs": [
    {
     "name": "stderr",
     "output_type": "stream",
     "text": [
      "CUDA not available - defaulting to CPU. Note: This module is much faster with a GPU.\n"
     ]
    },
    {
     "data": {
      "text/plain": [
       "['From: Al Amri, Salim <salim amri@gmail.com>',\n",
       " 'Sent: 25 August 2021 17.20',\n",
       " 'To: Al Harthi, Mohammed <mohd4 king@rihal.om>',\n",
       " 'Cc: Al hajri; Malik <hajri990@ocaa.co.om>; Omar, Naif <nnnn49@apple.com>',\n",
       " 'Subject: Conference Rooms Booking Details',\n",
       " 'Dear Mohammed,',\n",
       " 'As per our last discussion these are the available conference rooms available for booking along',\n",
       " 'with their rates for full day:',\n",
       " 'Room: Luban_',\n",
       " 'available on 26/09/2021',\n",
       " 'Rate: S4540',\n",
       " 'Room: Mazoon, available on 04/12/2021 and 13/02/2022. Rate: S3000',\n",
       " 'Room: Dhofar: Available on 11/11/2021. Rate: S2500',\n",
       " 'Room: Nizwa. Available on 13/12/2022. Rate: S1200',\n",
       " 'Please let me know which ones vou are interested So we go through more details',\n",
       " 'Best regards,',\n",
       " 'Salim Al Amri']"
      ]
     },
     "execution_count": 7,
     "metadata": {},
     "output_type": "execute_result"
    }
   ],
   "source": [
    "# Extract text from the image using EasyOCR Package \n",
    "reader = easyocr.Reader(['en'])\n",
    "result = reader.readtext(IMAGE_PATH, detail=0, paragraph=False)\n",
    "result"
   ]
  },
  {
   "attachments": {},
   "cell_type": "markdown",
   "metadata": {},
   "source": [
    "### 3. Extract Outputs"
   ]
  },
  {
   "cell_type": "code",
   "execution_count": 53,
   "metadata": {},
   "outputs": [
    {
     "name": "stdout",
     "output_type": "stream",
     "text": [
      "Emails:\n",
      "salim.amri@gmail.com\n",
      "mohd4.king@rihal.om\n",
      "hajri990@ocaa.co.om\n",
      "nnnn49@apple.com\n",
      "\n",
      "Names:\n",
      "Salim Al Amri\n",
      "Mohammed Al Harthi\n",
      "Malik Al hajri\n",
      "Naif Omar\n",
      "\n",
      "Dates:\n",
      "2021-08-25\n",
      "2021-09-26\n",
      "2021-12-04\n",
      "2022-02-13\n",
      "2021-11-11\n",
      "2022-12-13\n",
      "\n",
      "Rooms:\n",
      "Luban\n",
      "Mazoon\n",
      "Dhofar\n",
      "Nizwa\n",
      "\n",
      "Rates:\n",
      "$4540\n",
      "$3000\n",
      "$2500\n",
      "$1200\n",
      "\n"
     ]
    }
   ],
   "source": [
    "text = result\n",
    "data = defaultdict(list)\n",
    "\n",
    "# i. Find all dates. \n",
    "# Standardize the output to this format YYYY-MM-DD \n",
    "for line in text:\n",
    "    matches = re.findall('(\\d{2}[\\/ ](\\d{2}|January|Jan|February|Feb|March|Mar|April|Apr|May|May|June|Jun|July|Jul|August|Aug|September|Sep|October|Oct|November|Nov|December|Dec)[\\/ ]\\d{2,4})', line)\n",
    "    for match in matches:\n",
    "        date = match[0]\n",
    "        month = re.search('[A-Z|a-z]+[A-Z|a-z]+', date)\n",
    "        if month:\n",
    "            month_number = datetime.strptime(month.group(), '%B').month\n",
    "            date = date.replace(month.group(), str(month_number)) \n",
    "            date = date.replace(' ', '/')  \n",
    "        date = datetime.strptime(date, '%d/%m/%Y').date()\n",
    "        data['Dates'].append(str(date))\n",
    "\n",
    "# ii. Room Names\n",
    "    start = re.search(\"Room:\", line)\n",
    "    if start:\n",
    "        line = line[start.end()+1:]\n",
    "        end = re.search('[.,_:;]', line)\n",
    "        name = line[: end.start()]\n",
    "        data['Rooms'].append(name)\n",
    "\n",
    "# iii. Room Rates\n",
    "    rate = re.search(\"Rate:\", line)\n",
    "    if rate:\n",
    "        rate = line[rate.end()+2:]\n",
    "        rates.append(\"$\"+rate)\n",
    "        data['Rates'].append(\"$\"+rate)\n",
    "\n",
    "# iv. All emails \n",
    "    find_emails = re.findall(r'[\\w. -]+@[\\w.-]+', line) ## ['alice@google.com', 'bob@abc.com']\n",
    "    for email in find_emails:\n",
    "        email = email.replace(' ','.')\n",
    "        data['Emails'].append(email)\n",
    "        \n",
    "# v. Individual Names. \n",
    "# Standardize the output to this format \"Firstname Lastname\"\n",
    "    name_index = re.search('To:|Cc:|From:', line)\n",
    "    while name_index:\n",
    "        end_index = re.search('<', line)\n",
    "        name = line[name_index.end()+1 : end_index.start()]\n",
    "        mid = re.search('[,;]', name).end()\n",
    "        name = name[mid+1:]  + name[:mid-1]\n",
    "        data['Names'].append(name)\n",
    "        line = line[end_index.start()+1:]\n",
    "        name_index = re.search('>;', line)\n",
    "\n",
    "\n",
    "                \n",
    "# Display results \n",
    "for key,value in data.items():\n",
    "    print(key + ':')\n",
    "    for i in value:\n",
    "      print(i)\n",
    "    print()"
   ]
  },
  {
   "cell_type": "code",
   "execution_count": null,
   "metadata": {},
   "outputs": [],
   "source": []
  }
 ],
 "metadata": {
  "kernelspec": {
   "display_name": "Python 3",
   "language": "python",
   "name": "python3"
  },
  "language_info": {
   "codemirror_mode": {
    "name": "ipython",
    "version": 3
   },
   "file_extension": ".py",
   "mimetype": "text/x-python",
   "name": "python",
   "nbconvert_exporter": "python",
   "pygments_lexer": "ipython3",
   "version": "3.7.2"
  }
 },
 "nbformat": 4,
 "nbformat_minor": 2
}
